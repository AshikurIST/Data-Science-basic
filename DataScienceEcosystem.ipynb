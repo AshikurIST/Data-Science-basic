{
 "cells": [
  {
   "cell_type": "markdown",
   "id": "64aa0540",
   "metadata": {},
   "source": [
    "# Data Science Tools and Ecosystem"
   ]
  },
  {
   "cell_type": "code",
   "execution_count": null,
   "id": "5a81cf72",
   "metadata": {},
   "outputs": [],
   "source": []
  },
  {
   "cell_type": "code",
   "execution_count": null,
   "id": "556946df",
   "metadata": {},
   "outputs": [],
   "source": [
    "In this notebook, Data Science Tools and Ecosystem are summarized."
   ]
  },
  {
   "cell_type": "markdown",
   "id": "e33b87c5",
   "metadata": {},
   "source": [
    "# Objectives"
   ]
  },
  {
   "cell_type": "code",
   "execution_count": null,
   "id": "5a38bd80",
   "metadata": {},
   "outputs": [],
   "source": [
    "-Python\n",
    "-R\n",
    "-Java\n",
    "-SQL\n",
    "-Julia"
   ]
  },
  {
   "cell_type": "code",
   "execution_count": null,
   "id": "e3a36058",
   "metadata": {},
   "outputs": [],
   "source": [
    "Some of the popular languages that Data Scientists use are:\n",
    "    1.Python\n",
    "    2.R\n",
    "    3.Java\n",
    "    4.SQL\n",
    "    5.Julia\n",
    "    6.Scala"
   ]
  },
  {
   "cell_type": "code",
   "execution_count": null,
   "id": "ad09a347",
   "metadata": {},
   "outputs": [],
   "source": [
    "Some of the commonly used libraries used by Data Scientists include:\n",
    "    1.NumPy\n",
    "    2.pandas\n",
    "    3.Matplotlib\n",
    "    4.Seabron\n",
    "    5.Scikit-learn\n",
    "    6.TensorFlow\n",
    "    7.Keras\n",
    "    8.PyTorch\n",
    "    9.SciPy\n",
    "    10.Hadoop and Spark"
   ]
  },
  {
   "cell_type": "markdown",
   "id": "dad441aa",
   "metadata": {},
   "source": [
    "|Data Science Tools|\n",
    "|------------------|\n",
    "|Jupyter Notebook  |\n",
    "|RStudio           |\n",
    "|Visual Studio Code|"
   ]
  },
  {
   "cell_type": "code",
   "execution_count": null,
   "id": "46ad4b88",
   "metadata": {},
   "outputs": [],
   "source": [
    "# Below are a few examples of evaluating arithmetic expressions in Python.\n",
    "\n",
    "a = 3\n",
    "b = 5\n",
    "result = a + b * 2\n",
    "print(result)  \n"
   ]
  },
  {
   "cell_type": "code",
   "execution_count": 6,
   "id": "b2bbc4aa",
   "metadata": {},
   "outputs": [
    {
     "name": "stdout",
     "output_type": "stream",
     "text": [
      "The result is: 17\n"
     ]
    }
   ],
   "source": [
    "# This is a simple arithmetic expression to multiply 3 by 4 and then add 5.\n",
    "result = (3 * 4) + 5\n",
    "\n",
    "# Print the result\n",
    "print(\"The result is:\", result)\n",
    "\n"
   ]
  },
  {
   "cell_type": "code",
   "execution_count": 7,
   "id": "d4494d9b",
   "metadata": {},
   "outputs": [
    {
     "name": "stdout",
     "output_type": "stream",
     "text": [
      "200 minutes is equal to 3.3333333333333335 hours\n"
     ]
    }
   ],
   "source": [
    "# This will convert 200 minutes to hours by dividing by 60.\n",
    "minutes = 200\n",
    "hours = minutes / 60\n",
    "\n",
    "# Print the result\n",
    "print(\"200 minutes is equal to\", hours, \"hours\")\n"
   ]
  },
  {
   "cell_type": "markdown",
   "id": "349e887f",
   "metadata": {},
   "source": [
    "# Author "
   ]
  },
  {
   "cell_type": "code",
   "execution_count": null,
   "id": "b5852f5e",
   "metadata": {},
   "outputs": [],
   "source": [
    "Md Ashikur Rahman Sujon"
   ]
  }
 ],
 "metadata": {
  "kernelspec": {
   "display_name": "Python 3 (ipykernel)",
   "language": "python",
   "name": "python3"
  },
  "language_info": {
   "codemirror_mode": {
    "name": "ipython",
    "version": 3
   },
   "file_extension": ".py",
   "mimetype": "text/x-python",
   "name": "python",
   "nbconvert_exporter": "python",
   "pygments_lexer": "ipython3",
   "version": "3.11.4"
  }
 },
 "nbformat": 4,
 "nbformat_minor": 5
}
